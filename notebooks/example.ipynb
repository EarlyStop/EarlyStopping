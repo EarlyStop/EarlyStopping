{
 "cells": [
  {
   "cell_type": "code",
   "execution_count": 6,
   "id": "e0e1df2b",
   "metadata": {},
   "outputs": [],
   "source": [
    "import EarlyStopping as es"
   ]
  },
  {
   "cell_type": "code",
   "execution_count": 4,
   "id": "809edffb",
   "metadata": {},
   "outputs": [
    {
     "data": {
      "text/plain": [
       "13"
      ]
     },
     "execution_count": 4,
     "metadata": {},
     "output_type": "execute_result"
    }
   ],
   "source": [
    "es.add_one(12)"
   ]
  },
  {
   "cell_type": "code",
   "execution_count": 5,
   "id": "7672af95",
   "metadata": {},
   "outputs": [
    {
     "data": {
      "text/plain": [
       "3"
      ]
     },
     "execution_count": 5,
     "metadata": {},
     "output_type": "execute_result"
    }
   ],
   "source": [
    "es.add_one(2)"
   ]
  },
  {
   "cell_type": "code",
   "execution_count": null,
   "id": "9e487db0",
   "metadata": {},
   "outputs": [],
   "source": []
  }
 ],
 "metadata": {
  "kernelspec": {
   "display_name": "esenv",
   "language": "python",
   "name": "esenv"
  },
  "language_info": {
   "codemirror_mode": {
    "name": "ipython",
    "version": 3
   },
   "file_extension": ".py",
   "mimetype": "text/x-python",
   "name": "python",
   "nbconvert_exporter": "python",
   "pygments_lexer": "ipython3",
   "version": "3.12.5"
  }
 },
 "nbformat": 4,
 "nbformat_minor": 5
}
