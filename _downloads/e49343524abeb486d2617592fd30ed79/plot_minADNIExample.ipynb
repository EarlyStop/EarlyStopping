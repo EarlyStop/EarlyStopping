{
  "cells": [
    {
      "cell_type": "markdown",
      "metadata": {},
      "source": [
        "\n# A minimal example for the ADNI application\n"
      ]
    },
    {
      "cell_type": "code",
      "execution_count": null,
      "metadata": {
        "collapsed": false
      },
      "outputs": [],
      "source": [
        "import os\nimport subprocess\nimport pandas as pd\nfrom io import StringIO\nfrom pathlib import Path\n\nimport numpy as np\nimport matplotlib.pyplot as plt\nimport seaborn as sns\nimport EarlyStopping as es\n\npassword = os.environ.get(\"PASSWORD\")\n\nresult = subprocess.run(\n    [\n        \"gpg\",\n        \"--batch\",\n        \"--yes\",\n        \"--pinentry-mode\", \"loopback\",           # <-- important in CI\n        \"--passphrase\", \n        password,\n        \"--decrypt\", \n        \"data/ADNI_data.gpg\",\n    ],\n    capture_output=True,\n    check=True,\n    text=True,  # so result.stdout is already str\n)\n\nmerged_data = pd.read_csv(StringIO(result.stdout))\n\n# Boosting example for PHASE = ADNI1\nmin_example_data = merged_data[merged_data[\"PHASE\"] == \"ADNI1\"]\nmin_example_data = min_example_data.drop_duplicates(subset=[\"RID\"], keep = \"first\")\nmin_example_data.info()\nmin_example_data.to_csv(\"min_example_data.csv\", index=False)\n\nresponse                 = min_example_data[\"MMSCORE\"].to_numpy()\nnp.isnan(response).any()\n\nfirst_covariate_location = min_example_data.columns.get_loc(\"ST101SV\")\nlast_covariate_location  = min_example_data.columns.get_loc(\"ST155SV\")\ndesign                   = min_example_data.iloc[:, first_covariate_location:last_covariate_location].to_numpy()\ndesign                   = np.nan_to_num(design, nan = 0)\nnp.isnan(response).any()\n\nalg = es.L2_boost(design, response)\nalg.iterate(300)\n\n# Discrepancy stop\nnoise_estimate = alg.get_noise_estimate(K = 1)\nstopping_time  = alg.get_discrepancy_stop(critical_value = noise_estimate, max_iteration=300)\nstopping_time\n\n# Early stopping via residual ratios\nstopping_time = alg.get_residual_ratio_stop(max_iteration=200, K=1.2)\nstopping_time\n\nstopping_time = alg.get_residual_ratio_stop(max_iteration=200, K=0.2)\nstopping_time\n\nstopping_time = alg.get_residual_ratio_stop(max_iteration=200, K=0.1)\nstopping_time\n\n# Classical model selection via AIC\naic_minimizer = alg.get_aic_iteration(K=2)\naic_minimizer"
      ]
    }
  ],
  "metadata": {
    "kernelspec": {
      "display_name": "Python 3",
      "language": "python",
      "name": "python3"
    },
    "language_info": {
      "codemirror_mode": {
        "name": "ipython",
        "version": 3
      },
      "file_extension": ".py",
      "mimetype": "text/x-python",
      "name": "python",
      "nbconvert_exporter": "python",
      "pygments_lexer": "ipython3",
      "version": "3.13.7"
    }
  },
  "nbformat": 4,
  "nbformat_minor": 0
}