{
  "cells": [
    {
      "cell_type": "markdown",
      "metadata": {},
      "source": [
        "\n# Usage of the SimulationWrapper class\n\nWe illustrate how the SimmulationWrapper class can be used to simplify \nthe process of creating a Montecarlo simmulation for analying the performance of the Landweber method.\n"
      ]
    },
    {
      "cell_type": "code",
      "execution_count": null,
      "metadata": {
        "collapsed": false
      },
      "outputs": [],
      "source": [
        "import numpy as np\nimport matplotlib.pyplot as plt\nimport seaborn as sns\nimport EarlyStopping as es\nimport pandas as pd\n\nnp.random.seed(42)\nsns.set_theme()"
      ]
    },
    {
      "cell_type": "markdown",
      "metadata": {},
      "source": [
        "Gererate synthetic data using the SimulationData class.\nOther options besides diagonal_data include 'gravity', 'heat', 'deriv2', 'phillips'\n\n"
      ]
    },
    {
      "cell_type": "code",
      "execution_count": null,
      "metadata": {
        "collapsed": false
      },
      "outputs": [],
      "source": [
        "design_smooth, response_noiseless_smooth, true_signal_smooth = es.SimulationData.diagonal_data(\n    sample_size=1000, type=\"smooth\"\n)"
      ]
    },
    {
      "cell_type": "markdown",
      "metadata": {},
      "source": [
        "Setup and verify the Simulation paramters for the Simulation\n\n"
      ]
    },
    {
      "cell_type": "code",
      "execution_count": null,
      "metadata": {
        "collapsed": false
      },
      "outputs": [],
      "source": [
        "parameters_smooth = es.SimulationParameters(\n    design=design_smooth,\n    true_signal=true_signal_smooth,\n    true_noise_level=0.01,\n    monte_carlo_runs=3,\n    cores=3,\n)"
      ]
    },
    {
      "cell_type": "markdown",
      "metadata": {},
      "source": [
        "Create a SimulationWrapper object based on the SimulationParameters and run the simulation based on the desired estimation method.\nThe data_set_name parameter is optional and is used to save the results of the simulation.\nSince the parameter is not specified, the results will not be saved\nand are simply returned as a pd.DataFrame.\n\n"
      ]
    },
    {
      "cell_type": "code",
      "execution_count": null,
      "metadata": {
        "collapsed": false
      },
      "outputs": [],
      "source": [
        "simulation_smooth = es.SimulationWrapper(**parameters_smooth.__dict__)\nsimmulation_results = simulation_smooth.run_simulation_landweber(max_iteration=1000)\n\npd.set_option(\"display.max_rows\", None, \"display.max_columns\", None)  # Display all rows and columns of the DataFrame\nprint(simmulation_results)"
      ]
    }
  ],
  "metadata": {
    "kernelspec": {
      "display_name": "Python 3",
      "language": "python",
      "name": "python3"
    },
    "language_info": {
      "codemirror_mode": {
        "name": "ipython",
        "version": 3
      },
      "file_extension": ".py",
      "mimetype": "text/x-python",
      "name": "python",
      "nbconvert_exporter": "python",
      "pygments_lexer": "ipython3",
      "version": "3.13.7"
    }
  },
  "nbformat": 4,
  "nbformat_minor": 0
}