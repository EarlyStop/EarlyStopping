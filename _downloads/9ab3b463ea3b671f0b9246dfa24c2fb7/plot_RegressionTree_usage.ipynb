{
  "cells": [
    {
      "cell_type": "markdown",
      "metadata": {},
      "source": [
        "\n# Usage of the RegressionTree class\n\nWe illustrate the usage and available methods of the regression tree class via a\nsmall example.\n"
      ]
    },
    {
      "cell_type": "code",
      "execution_count": null,
      "metadata": {
        "collapsed": false
      },
      "outputs": [],
      "source": [
        "for name in list(globals()):\n    if not name.startswith('_'):\n        del globals()[name]\n\nimport importlib\nimport numpy as np\nimport EarlyStopping as es\nimportlib.reload(es)\nimport matplotlib.pyplot as plt\nimport seaborn as sns\nsns.set_theme()"
      ]
    },
    {
      "cell_type": "markdown",
      "metadata": {},
      "source": [
        "## Generating synthetic data\nTo simulate some data we consider the processes from Miftachov and Rei\u00df (2024).\n\n"
      ]
    },
    {
      "cell_type": "code",
      "execution_count": null,
      "metadata": {
        "collapsed": false
      },
      "outputs": [],
      "source": [
        "sample_size = 1000\npara_size = 5\ntrue_noise_level = 1\ndesign = np.random.uniform(0, 1, size=(sample_size, para_size))\n\ndef generate_rectangular(design, noise_level, add_noise=True):\n    sample_size = design.shape[0]\n    if add_noise:\n        noise = np.random.normal(0, noise_level, sample_size)\n    else:\n        noise = np.zeros(sample_size)\n\n    response_temp = ((1 / 3 <= design[:, 0]) * (design[:, 0] <= 2 * 1 / 3) * (1 / 3 <= design[:, 1]) * (design[:, 1] <= 2 * 1 / 3))\n    response = response_temp.astype(int) + noise\n\n    return response, noise\n\ndef generate_smooth_signal(design, noise_level, add_noise=True):\n    sample_size = design.shape[0]\n    if add_noise:\n        noise = np.random.normal(0, noise_level, sample_size)\n    else:\n        noise = np.zeros(sample_size)\n\n    y = 20 * np.exp(-5 * ((design[:, 0] - 1 / 2) ** 2 + (design[:, 1] - 1 / 2) ** 2 - 0.9 * (design[:, 0] - 1 / 2) * (design[:, 1] - 1 / 2))) + noise\n\n    return y, noise\n\ndef generate_sine_cosine(design, noise_level, add_noise=True):\n\n    sample_size = design.shape[0]\n    if add_noise:\n        noise = np.random.normal(0, noise_level, sample_size)\n    else:\n        noise = np.zeros(sample_size)\n    y = np.sin(3 * np.pi * design[:, 0]) + np.cos(5 * np.pi * design[:, 1]) + noise\n    return y, noise\n\nresponse, noise = generate_sine_cosine(design, true_noise_level, add_noise=True)\nf, _ = generate_sine_cosine(design, true_noise_level, add_noise=False)"
      ]
    },
    {
      "cell_type": "markdown",
      "metadata": {},
      "source": [
        "## Bias-variance decomposition\nDecompose the risk into squared bias and variance.\n\n"
      ]
    },
    {
      "cell_type": "code",
      "execution_count": null,
      "metadata": {
        "collapsed": false
      },
      "outputs": [],
      "source": [
        "alg = es.RegressionTree(design=design, response=response, min_samples_split=1, true_signal=f,\n                        true_noise_vector=noise)\nalg.iterate(max_depth=30)\n\nplt.figure(figsize=(8, 6))\nplt.plot(alg.risk, label='Risk')\nplt.plot(alg.bias2, label='Bias')\nplt.plot(alg.variance, label='Variance')\nplt.xlabel('Generation')\nplt.grid(True)\nx_ticks = np.arange(0, len(alg.risk) + 1, step=3)  # Adjust 'step' for tick frequency\nplt.xticks(x_ticks)\nplt.show()"
      ]
    },
    {
      "cell_type": "markdown",
      "metadata": {},
      "source": [
        "## Early stopping via the discrepancy principle\nStop the breadth-first search growth of the tree when the residuals become smaller than the critical value.\n\n"
      ]
    },
    {
      "cell_type": "code",
      "execution_count": null,
      "metadata": {
        "collapsed": false
      },
      "outputs": [],
      "source": [
        "stopping_iteration = alg.get_discrepancy_stop(critical_value=1, max_depth=10)\nbalanced_oracle_iteration = alg.get_balanced_oracle(max_depth=20)\nprint(\"The discrepancy based early stopping generation is given by\", stopping_iteration)\nprint(\"The balanced oracle generation is given by\", balanced_oracle_iteration)"
      ]
    },
    {
      "cell_type": "markdown",
      "metadata": {},
      "source": [
        "## Prediction\nThe class has a method to predict the response for new design points.\n\n"
      ]
    },
    {
      "cell_type": "code",
      "execution_count": null,
      "metadata": {
        "collapsed": false
      },
      "outputs": [],
      "source": [
        "prediction = alg.predict(design, depth=20)"
      ]
    }
  ],
  "metadata": {
    "kernelspec": {
      "display_name": "Python 3",
      "language": "python",
      "name": "python3"
    },
    "language_info": {
      "codemirror_mode": {
        "name": "ipython",
        "version": 3
      },
      "file_extension": ".py",
      "mimetype": "text/x-python",
      "name": "python",
      "nbconvert_exporter": "python",
      "pygments_lexer": "ipython3",
      "version": "3.13.7"
    }
  },
  "nbformat": 4,
  "nbformat_minor": 0
}