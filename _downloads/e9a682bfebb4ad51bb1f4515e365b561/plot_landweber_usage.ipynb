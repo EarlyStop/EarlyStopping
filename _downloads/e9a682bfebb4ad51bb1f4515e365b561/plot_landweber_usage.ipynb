{
  "cells": [
    {
      "cell_type": "markdown",
      "metadata": {},
      "source": [
        "\n# Usage of the Landweber class \n\nWe illustrate the usage and available methods of the Landweber class via a\nsmall example.\n"
      ]
    },
    {
      "cell_type": "code",
      "execution_count": null,
      "metadata": {
        "collapsed": false
      },
      "outputs": [],
      "source": [
        "import numpy as np\nimport matplotlib.pyplot as plt\nimport EarlyStopping as es\nfrom scipy.sparse import dia_matrix\nimport seaborn as sns\n\nnp.random.seed(42)\nsns.set_theme()"
      ]
    },
    {
      "cell_type": "markdown",
      "metadata": {},
      "source": [
        "## Generating synthetic data\nTo simulate some data we consider the signals from [Blanchard, Hoffmann and Rei\u00df (2018)](https://projecteuclid.org/journals/electronic-journal-of-statistics/volume-12/issue-2/Early-stopping-for-statistical-inverse-problems-via-truncated-SVD-estimation/10.1214/18-EJS1482.full).\n\n"
      ]
    },
    {
      "cell_type": "code",
      "execution_count": null,
      "metadata": {
        "collapsed": false
      },
      "outputs": [],
      "source": [
        "sample_size = 10000\nindices = np.arange(sample_size) + 1\n\nsignal_supersmooth = 5 * np.exp(-0.1 * indices)\nsignal_smooth = 5000 * np.abs(np.sin(0.01 * indices)) * indices ** (-1.6)\nsignal_rough = 250 * np.abs(np.sin(0.002 * indices)) * indices ** (-0.8)\n\ntrue_signal = signal_rough\n\nplt.figure(figsize=(14, 4))\nplt.plot(indices, signal_supersmooth, label=\"supersmooth signal\")\nplt.plot(indices, signal_smooth, label=\"smooth signal\")\nplt.plot(indices, signal_rough, label=\"rough signal\")\nplt.ylabel(\"Signal\")\nplt.xlabel(\"Index\")\nplt.ylim([0, 0.4])\nplt.legend(loc=\"upper right\")\nplt.show()"
      ]
    },
    {
      "cell_type": "markdown",
      "metadata": {},
      "source": [
        "We simulate data from a prototypical inverse problem based on one of the signals\n\n"
      ]
    },
    {
      "cell_type": "code",
      "execution_count": null,
      "metadata": {
        "collapsed": false
      },
      "outputs": [],
      "source": [
        "true_noise_level = 0.01\nnoise = true_noise_level * np.random.normal(0, 1, sample_size)\n\neigenvalues = 1 / np.sqrt(indices)\ndesign = dia_matrix(np.diag(eigenvalues))\n\nresponse = eigenvalues * true_signal + noise\n\n# Initialize Landweber class\nalg = es.Landweber(design, response, learning_rate=1, true_signal=true_signal, true_noise_level=true_noise_level)\nalg.iterate(3000)"
      ]
    },
    {
      "cell_type": "markdown",
      "metadata": {},
      "source": [
        "Bias-variance decomposition (weak/strong)\n\n"
      ]
    },
    {
      "cell_type": "code",
      "execution_count": null,
      "metadata": {
        "collapsed": false
      },
      "outputs": [],
      "source": [
        "plt.figure()\nplt.plot(indices[0 : alg.iteration + 1], alg.weak_variance, label=\"Weak variance\")\nplt.plot(indices[0 : alg.iteration + 1], alg.weak_bias2, label=\"Weak squared bias\")\nplt.legend(loc=\"upper right\")\nplt.show()\n\nplt.figure()\nplt.plot(indices[0 : alg.iteration + 1], alg.strong_variance, label=\"Strong variance\")\nplt.plot(indices[0 : alg.iteration + 1], alg.strong_bias2, label=\"Strong squared bias\")\nplt.legend(loc=\"upper right\")\nplt.show()\n\nprint(f\"Weak balanced oracle: {alg.get_weak_balanced_oracle(3000)}\")\nprint(f\"Strong balanced oracle: {alg.get_strong_balanced_oracle(3000)}\")"
      ]
    },
    {
      "cell_type": "markdown",
      "metadata": {},
      "source": [
        "Early stopping w/ discrepancy principle\n\n"
      ]
    },
    {
      "cell_type": "code",
      "execution_count": null,
      "metadata": {
        "collapsed": false
      },
      "outputs": [],
      "source": [
        "critical_value = sample_size * true_noise_level**2\ndiscrepancy_time = alg.get_discrepancy_stop(critical_value, 3000)\nestimated_signal = alg.get_estimate(discrepancy_time)\n\nprint(f\"Critical value: {critical_value}.\")\nprint(f\"Discrepancy stopping time: {discrepancy_time}\")\n\nplt.figure(figsize=(14, 4))\nplt.plot(indices, estimated_signal, label=\"Estimated signal at stopping time\")\nplt.plot(indices, true_signal, label=\"True signal\")\nplt.ylim([0, 2])\nplt.legend(loc=\"upper right\")\nplt.show()"
      ]
    }
  ],
  "metadata": {
    "kernelspec": {
      "display_name": "Python 3",
      "language": "python",
      "name": "python3"
    },
    "language_info": {
      "codemirror_mode": {
        "name": "ipython",
        "version": 3
      },
      "file_extension": ".py",
      "mimetype": "text/x-python",
      "name": "python",
      "nbconvert_exporter": "python",
      "pygments_lexer": "ipython3",
      "version": "3.13.7"
    }
  },
  "nbformat": 4,
  "nbformat_minor": 0
}