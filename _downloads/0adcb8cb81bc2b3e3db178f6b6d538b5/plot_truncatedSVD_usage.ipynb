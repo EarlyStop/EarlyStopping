{
  "cells": [
    {
      "cell_type": "markdown",
      "metadata": {},
      "source": [
        "\n# Usage of the TruncatedSVD class \n\n\nWe illustrate the usage and available methods of the TruncatedSVD class via a\nsmall example.\n"
      ]
    },
    {
      "cell_type": "code",
      "execution_count": null,
      "metadata": {
        "collapsed": false
      },
      "outputs": [],
      "source": [
        "import os\nimport numpy as np\nimport matplotlib.pyplot as plt\nimport seaborn as sns\nfrom scipy.sparse import dia_matrix\nimport EarlyStopping as es\n\n\nnp.random.seed(42)\nsns.set_theme()"
      ]
    },
    {
      "cell_type": "markdown",
      "metadata": {},
      "source": [
        "## Generating synthetic data\nTo simulate some data we consider the signals from [Blanchard, Hoffmann and Rei\u00df (2018)](https://projecteuclid.org/journals/electronic-journal-of-statistics/volume-12/issue-2/Early-stopping-for-statistical-inverse-problems-via-truncated-SVD-estimation/10.1214/18-EJS1482.full).\n\n"
      ]
    },
    {
      "cell_type": "code",
      "execution_count": null,
      "metadata": {
        "collapsed": false
      },
      "outputs": [],
      "source": [
        "sample_size = 10000\nindices = np.arange(sample_size) + 1\n\nsignal_supersmooth = 5 * np.exp(-0.1 * indices)\nsignal_smooth = 5000 * np.abs(np.sin(0.01 * indices)) * indices ** (-1.6)\nsignal_rough = 250 * np.abs(np.sin(0.002 * indices)) * indices ** (-0.8)\n\nplt.figure(figsize=(10, 4))\nplt.xlabel(\"Index\")\nplt.xlim([0, 5000])\nplt.ylabel(\"Signal\")\nplt.ylim([0, 1.6])\nplt.plot(indices, signal_supersmooth, label=\"supersmooth signal\")\nplt.plot(indices, signal_smooth, label=\"smooth signal\")\nplt.plot(indices, signal_rough, label=\"rough signal\")\nplt.legend(loc=\"upper right\")\nplt.show()"
      ]
    },
    {
      "cell_type": "markdown",
      "metadata": {},
      "source": [
        "We simulate data from a prototypical inverse problem based on one of the signals\n\n"
      ]
    },
    {
      "cell_type": "code",
      "execution_count": null,
      "metadata": {
        "collapsed": false
      },
      "outputs": [],
      "source": [
        "true_signal = signal_rough\neigenvalues = indices ** (-0.5)\ndesign = dia_matrix(np.diag(eigenvalues))\ntrue_noise_level = 0.01\nresponse = eigenvalues * true_signal + true_noise_level * np.random.normal(0, 1, sample_size)"
      ]
    },
    {
      "cell_type": "markdown",
      "metadata": {},
      "source": [
        "## Theoretical bias-variance decomposition\nBy giving the true function f to the class, we can track the theoretical bias-variance decomposition and the balanced oracle.\n\n"
      ]
    },
    {
      "cell_type": "code",
      "execution_count": null,
      "metadata": {
        "collapsed": false
      },
      "outputs": [],
      "source": [
        "alg = es.TruncatedSVD(design, response, true_signal, true_noise_level, diagonal=True)\nalg.iterate(3000)\n\nplt.figure()\nplt.plot(indices[0 : alg.iteration + 1], alg.weak_variance, label=\"Weak variance\")\nplt.plot(indices[0 : alg.iteration + 1], alg.weak_bias2, label=\"Weak squared bias\")\nplt.legend(loc=\"upper right\")\nplt.show()\nweak_balanced_oracle = alg.get_weak_balanced_oracle(3000)\nweak_balanced_oracle_mse = alg.weak_bias2[weak_balanced_oracle] + alg.weak_variance[weak_balanced_oracle]\nprint(f\"The weakly balanced oracle is given by {weak_balanced_oracle} with mse = {weak_balanced_oracle_mse}.\")\n\nplt.figure()\nplt.plot(indices[0: alg.iteration + 1], alg.strong_variance, label=\"Strong variance\")\nplt.plot(indices[0: alg.iteration + 1], alg.strong_bias2, label=\"Strong squared bias\")\nplt.legend(loc=\"upper right\")\nstrong_balanced_oracle = alg.get_strong_balanced_oracle(3000)\nstrong_balanced_oracle_mse = alg.strong_bias2[strong_balanced_oracle] + alg.strong_variance[strong_balanced_oracle]\nprint(f\"The strongly balanced oracle is given by {strong_balanced_oracle} with mse = {strong_balanced_oracle_mse}.\")"
      ]
    },
    {
      "cell_type": "markdown",
      "metadata": {},
      "source": [
        "## Early stopping via the discrepancy principle\nThe TruncatedSVD class provides a data driven method to choose an iteration making the right tradeoff between bias and variance.\nIt is based on the discrepancy principle, which stops when the residuals become smaller than a critical value.\nTheoretically this critical value should be chosen depending on the noise level of the model, which, in the inverse problem setting, can be assumed to be known.\n\n"
      ]
    },
    {
      "cell_type": "code",
      "execution_count": null,
      "metadata": {
        "collapsed": false
      },
      "outputs": [],
      "source": [
        "critical_value   = sample_size * true_noise_level**2\nstopping_time    = alg.get_discrepancy_stop(critical_value, 3000)\nestimated_signal = alg.get_estimate(stopping_time)\nearly_stopping_mse = alg.strong_bias2[stopping_time] + alg.strong_variance[stopping_time]\nplt.figure(figsize=(10, 5))\nplt.plot(indices, estimated_signal)\nplt.plot(indices, true_signal)\nplt.ylim([0, 2])\nplt.xlim([0, 5000])\nprint(f\"The discrepancy based early stopping time is given by {stopping_time} with mse = {early_stopping_mse}.\")"
      ]
    },
    {
      "cell_type": "markdown",
      "metadata": {},
      "source": [
        "## A two-step procedure\nVia a classical Akaike criterion, the alforithm can also be run with a two-step procedure, i.e. an additional model selection step up to the stopping time.\n\n"
      ]
    },
    {
      "cell_type": "code",
      "execution_count": null,
      "metadata": {
        "collapsed": false
      },
      "outputs": [],
      "source": [
        "aic = alg.get_aic(stopping_time)\naic_time = aic[0]\naic_mse = alg.strong_bias2[aic_time] + alg.strong_variance[aic_time]\nprint(f\"The AIC based stopping time is given by {aic_time} with mse = {aic_mse}.\")\n# This confirms the validity of the discrepancy stopping time for this particular signal."
      ]
    }
  ],
  "metadata": {
    "kernelspec": {
      "display_name": "Python 3",
      "language": "python",
      "name": "python3"
    },
    "language_info": {
      "codemirror_mode": {
        "name": "ipython",
        "version": 3
      },
      "file_extension": ".py",
      "mimetype": "text/x-python",
      "name": "python",
      "nbconvert_exporter": "python",
      "pygments_lexer": "ipython3",
      "version": "3.13.7"
    }
  },
  "nbformat": 4,
  "nbformat_minor": 0
}